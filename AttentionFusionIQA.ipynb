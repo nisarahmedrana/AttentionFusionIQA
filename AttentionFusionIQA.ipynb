{
 "cells": [
  {
   "cell_type": "markdown",
   "metadata": {
    "gradient": {
     "editing": false,
     "id": "74b0c5e1-6592-4d69-8337-ce72ccbfc84f",
     "kernelId": "4ec6f3b2-2cb0-4819-a113-54a829d000d3"
    },
    "id": "3wF5wszaj97Y"
   },
   "source": [
    "# New architecture with best attribute of NASNET with spatial and self attention\n",
    "\n",
    "Last modified: 7-03-2023"
   ]
  },
  {
   "cell_type": "code",
   "execution_count": 1,
   "metadata": {
    "execution": {
     "iopub.execute_input": "2023-04-04T03:53:49.424995Z",
     "iopub.status.busy": "2023-04-04T03:53:49.424226Z",
     "iopub.status.idle": "2023-04-04T03:54:29.709482Z",
     "shell.execute_reply": "2023-04-04T03:54:29.708478Z",
     "shell.execute_reply.started": "2023-04-04T03:53:49.424960Z"
    }
   },
   "outputs": [
    {
     "name": "stdout",
     "output_type": "stream",
     "text": [
      "Cloning into 'BIQ2021'...\n",
      "remote: Enumerating objects: 12084, done.\u001b[K\n",
      "remote: Total 12084 (delta 0), reused 0 (delta 0), pack-reused 12084\u001b[K\n",
      "Receiving objects: 100% (12084/12084), 803.80 MiB | 27.03 MiB/s, done.\n",
      "Resolving deltas: 100% (36/36), done.\n",
      "Updating files: 100% (12006/12006), done.\n"
     ]
    }
   ],
   "source": [
    "! git clone https://github.com/nisarahmedrana/BIQ2021.git"
   ]
  },
  {
   "cell_type": "code",
   "execution_count": 33,
   "metadata": {
    "execution": {
     "iopub.execute_input": "2023-04-04T03:45:45.695708Z",
     "iopub.status.busy": "2023-04-04T03:45:45.694855Z",
     "iopub.status.idle": "2023-04-04T03:45:52.444984Z",
     "shell.execute_reply": "2023-04-04T03:45:52.444100Z",
     "shell.execute_reply.started": "2023-04-04T03:45:45.695708Z"
    }
   },
   "outputs": [],
   "source": [
    "import shutil\n",
    "shutil.rmtree('/notebooks/BIQ2021')"
   ]
  },
  {
   "cell_type": "code",
   "execution_count": 1,
   "metadata": {
    "execution": {
     "iopub.execute_input": "2023-04-08T06:51:21.244215Z",
     "iopub.status.busy": "2023-04-08T06:51:21.243896Z",
     "iopub.status.idle": "2023-04-08T06:51:21.253795Z",
     "shell.execute_reply": "2023-04-08T06:51:21.252760Z",
     "shell.execute_reply.started": "2023-04-08T06:51:21.244189Z"
    }
   },
   "outputs": [
    {
     "name": "stdout",
     "output_type": "stream",
     "text": [
      "/notebooks/BIQ2021\n"
     ]
    }
   ],
   "source": [
    "%cd /notebooks/BIQ2021/"
   ]
  },
  {
   "cell_type": "code",
   "execution_count": 6,
   "metadata": {
    "execution": {
     "iopub.execute_input": "2023-04-03T04:35:56.909935Z",
     "iopub.status.busy": "2023-04-03T04:35:56.909426Z",
     "iopub.status.idle": "2023-04-03T04:35:57.887129Z",
     "shell.execute_reply": "2023-04-03T04:35:57.886432Z",
     "shell.execute_reply.started": "2023-04-03T04:35:56.909915Z"
    }
   },
   "outputs": [],
   "source": [
    "import shutil\n",
    "import os\n",
    "    \n",
    "source_dir = '/notebooks/BIQ2021/Subset_01'\n",
    "target_dir = '/notebooks/BIQ2021/BIQ_Dataset'\n",
    "    \n",
    "file_names = os.listdir(source_dir)\n",
    "    \n",
    "for file_name in file_names:\n",
    "    shutil.move(os.path.join(source_dir, file_name), target_dir)"
   ]
  },
  {
   "cell_type": "code",
   "execution_count": 1,
   "metadata": {
    "execution": {
     "iopub.execute_input": "2023-07-24T08:20:06.897574Z",
     "iopub.status.busy": "2023-07-24T08:20:06.896759Z",
     "iopub.status.idle": "2023-07-24T08:20:08.947140Z",
     "shell.execute_reply": "2023-07-24T08:20:08.946420Z",
     "shell.execute_reply.started": "2023-07-24T08:20:06.897541Z"
    }
   },
   "outputs": [],
   "source": [
    "import tensorflow as tf\n",
    "from tensorflow.keras.layers import Input, Dense, Flatten, Dropout, BatchNormalization\n",
    "from tensorflow.keras.models import Model\n",
    "from tensorflow.keras.applications.inception_resnet_v2 import InceptionResNetV2\n",
    "from tensorflow.keras.layers import Input, Dense, Concatenate,Flatten, GlobalAveragePooling2D,BatchNormalization, Multiply,Dropout, Reshape, Add, LSTM,Multiply\n",
    "from tensorflow.keras.applications import InceptionResNetV2, ResNet50,EfficientNetB7\n",
    "\n",
    "\n",
    "\n",
    "# Function to create spatial attention layer\n",
    "def spatial_attention(x):\n",
    "    avg_pool = tf.reduce_mean(x, axis=-1, keepdims=True)\n",
    "    max_pool = tf.reduce_max(x, axis=-1, keepdims=True)\n",
    "    concat = Concatenate(axis=-1)([avg_pool, max_pool])\n",
    "    conv = tf.keras.layers.Conv2D(filters=1, kernel_size=3, padding='same', activation='sigmoid')(concat)\n",
    "    output = Multiply()([x, conv])\n",
    "    return output\n",
    "\n",
    "\n",
    "# Function to create channel attention layer\n",
    "def channel_attention(x):\n",
    "    avg_pool = tf.reduce_mean(x, axis=(1, 2), keepdims=True)\n",
    "    max_pool = tf.reduce_max(x, axis=(1, 2), keepdims=True)\n",
    "    concat = Concatenate(axis=-1)([avg_pool, max_pool])\n",
    "    dense1 = Dense(units=x.shape[-1] // 8, activation='relu')(concat)\n",
    "    dense2 = Dense(units=x.shape[-1], activation='sigmoid')(dense1)\n",
    "    output = Multiply()([x, dense2])\n",
    "    return output\n",
    "\n",
    "def model_qa(num_classes,input_shape):\n",
    "    \n",
    "    \n",
    "    \n",
    "    # Create input layers for the backbone networks\n",
    "    \n",
    "    input_layer=Input(shape=input_shape)\n",
    "    \n",
    "\n",
    "    base_model2 = ResNet50(weights='imagenet', include_top=False, input_shape=input_shape,input_tensor=input_layer)\n",
    "    x2 = base_model2.output\n",
    "    x2= tf.keras.layers.GlobalAveragePooling2D()(x2)\n",
    "    x2 =  Reshape((1, 1, -1))(x2)\n",
    "    x2 = spatial_attention(x2)\n",
    "    x2= channel_attention(x2)\n",
    "    x2=Flatten()(x2)\n",
    " \n",
    "    \n",
    "    base_model3 = EfficientNetB7(weights='imagenet', include_top=False, input_shape=input_shape,input_tensor=input_layer)\n",
    "    x3 = base_model3.output\n",
    "    x3= tf.keras.layers.GlobalAveragePooling2D()(x3)\n",
    "    x3 =  Reshape((1, 1, -1))(x3)\n",
    "    x3 = spatial_attention(x3)\n",
    "    x3= channel_attention(x3)\n",
    "    x3=Flatten()(x3)\n",
    "    \n",
    "    \n",
    "    \n",
    "    concatenated_output = Concatenate()([x2,x3])\n",
    "    \n",
    "\n",
    "    x = Dense(1024, activation='relu')(concatenated_output)\n",
    "    x = BatchNormalization()(x)\n",
    "    x = Dropout(0.25)(x)\n",
    "    x = Dense(512, activation='relu')(x)\n",
    "    x = BatchNormalization()(x)\n",
    "    x = Dropout(0.25)(x)\n",
    "    x = Dense(256, activation='relu')(x)\n",
    "    x = BatchNormalization()(x)\n",
    "    x = Dropout(0.5)(x)\n",
    "\n",
    "    # Define the regression head\n",
    "    \n",
    "    predictions = Dense(num_classes, activation='linear')(x)\n",
    "    model = Model(inputs=input_layer, outputs=predictions)\n",
    "    return model"
   ]
  },
  {
   "cell_type": "code",
   "execution_count": 2,
   "metadata": {
    "execution": {
     "iopub.execute_input": "2023-07-24T08:20:14.560705Z",
     "iopub.status.busy": "2023-07-24T08:20:14.559865Z",
     "iopub.status.idle": "2023-07-24T08:20:15.050506Z",
     "shell.execute_reply": "2023-07-24T08:20:15.049875Z",
     "shell.execute_reply.started": "2023-07-24T08:20:14.560679Z"
    }
   },
   "outputs": [
    {
     "name": "stdout",
     "output_type": "stream",
     "text": [
      "Found 8000 validated image filenames.\n",
      "Found 1999 validated image filenames.\n",
      "Found 2000 validated image filenames.\n"
     ]
    },
    {
     "name": "stderr",
     "output_type": "stream",
     "text": [
      "/usr/local/lib/python3.9/dist-packages/keras/preprocessing/image.py:989: UserWarning: Found 1 invalid image filename(s) in x_col=\"Image Name\". These filename(s) will be ignored.\n",
      "  warnings.warn('Found {} invalid image filename(s) in x_col=\"{}\". '\n"
     ]
    }
   ],
   "source": [
    "from tensorflow.keras.preprocessing.image import ImageDataGenerator\n",
    "import pandas as pd\n",
    "import numpy as np\n",
    "import tensorflow as tf\n",
    "\n",
    "\n",
    "# Define the image dimensions and other hyperparameters\n",
    "img_width, img_height = 224, 224\n",
    "batch_size = 16\n",
    "num_epochs = 100\n",
    "\n",
    "# Load the KonIQ-10k Train dataset\n",
    "train_df = pd.read_csv('/notebooks/BIQ2021/Train (Images and MOS).csv')\n",
    "\n",
    "# Load the KonIQ-10k Train dataset\n",
    "train_datagen = ImageDataGenerator(\n",
    "    horizontal_flip=True,\n",
    "    rescale=1./255,\n",
    "    samplewise_center=True,\n",
    "    samplewise_std_normalization=True,\n",
    "    validation_split=0.2\n",
    "    \n",
    ")\n",
    "train_generator = train_datagen.flow_from_dataframe(train_df,\n",
    "                                                    directory='/notebooks/BIQ2021/Images',\n",
    "                                                    target_size=(img_height, img_width),\n",
    "                                                    batch_size=batch_size,\n",
    "                                                    class_mode='raw',\n",
    "                                                    x_col='Image Name',\n",
    "                                                    y_col='MOS',\n",
    "                                                    subset='training',\n",
    "                                                    shuffle=True)\n",
    "# Load the KonIQ-10k Val dataset\n",
    "val_generator = train_datagen.flow_from_dataframe(train_df,\n",
    "                                                directory='/notebooks/BIQ2021/Images',\n",
    "                                                target_size=(img_height, img_width),\n",
    "                                                batch_size=batch_size,\n",
    "                                                class_mode='raw',\n",
    "                                                x_col='Image Name',\n",
    "                                                y_col='MOS',\n",
    "                                                subset='validation',\n",
    "                                                shuffle=True)\n",
    "\n",
    "# Load the KonIQ-10k Val dataset\n",
    "test_df = pd.read_csv('/notebooks/BIQ2021/Test (Images and MOS).csv')\n",
    "test_datagen = ImageDataGenerator(rescale=1./255,\n",
    "                                 samplewise_center=True,\n",
    "                                 samplewise_std_normalization=True)\n",
    "test_generator = test_datagen.flow_from_dataframe(test_df,\n",
    "                                                directory='/notebooks/BIQ2021/Images',\n",
    "                                                target_size=(img_height, img_width),\n",
    "                                                batch_size=batch_size,\n",
    "                                                class_mode='raw',\n",
    "                                                x_col='Image Name',\n",
    "                                                y_col='MOS',\n",
    "                                                shuffle=False)\n",
    "\n",
    "\n",
    "# Define the input layer for the model\n",
    "input_shape = (img_width, img_height, 3)"
   ]
  },
  {
   "cell_type": "code",
   "execution_count": 3,
   "metadata": {
    "execution": {
     "iopub.execute_input": "2023-07-24T08:20:18.401778Z",
     "iopub.status.busy": "2023-07-24T08:20:18.401039Z",
     "iopub.status.idle": "2023-07-24T08:20:18.406899Z",
     "shell.execute_reply": "2023-07-24T08:20:18.406195Z",
     "shell.execute_reply.started": "2023-07-24T08:20:18.401742Z"
    }
   },
   "outputs": [],
   "source": [
    "import tensorflow as tf\n",
    "\n",
    "def koniq_combined_loss(y_true, y_pred):\n",
    "    \n",
    "    # Calculate mean absolute error (MAE) between true and predicted scores\n",
    "    mae_loss = tf.reduce_mean(tf.abs(y_true - y_pred))\n",
    "\n",
    "#     # Calculate mean of true and predicted scores\n",
    "    mean_true = tf.reduce_mean(y_true)\n",
    "    mean_pred = tf.reduce_mean(y_pred)\n",
    "\n",
    "    # Calculate standard deviation of true and predicted scores\n",
    "    std_true = tf.math.reduce_std(y_true)\n",
    "    std_pred = tf.math.reduce_std(y_pred)\n",
    "\n",
    "    # Calculate covariance of true and predicted scores\n",
    "    covariance = tf.reduce_mean((y_true - mean_true) * (y_pred - mean_pred))\n",
    "\n",
    "    # Calculate PLCC\n",
    "    plcc = covariance / (std_true * std_pred)\n",
    "   \n",
    "    # Convert PLCC to a loss value\n",
    "    plcc_loss = 1 - plcc\n",
    "\n",
    "    # Combine MAE and PLCC losses\n",
    "    combined_loss=10*mae_loss+10*plcc_loss\n",
    "    \n",
    "\n",
    "    return combined_loss"
   ]
  },
  {
   "cell_type": "code",
   "execution_count": 4,
   "metadata": {
    "execution": {
     "iopub.execute_input": "2023-07-24T08:20:19.753103Z",
     "iopub.status.busy": "2023-07-24T08:20:19.752525Z",
     "iopub.status.idle": "2023-07-24T08:20:19.757043Z",
     "shell.execute_reply": "2023-07-24T08:20:19.756415Z",
     "shell.execute_reply.started": "2023-07-24T08:20:19.753077Z"
    }
   },
   "outputs": [],
   "source": [
    "def plcc_train(y_true, y_pred):\n",
    "     # Calculate mean of true and predicted scores\n",
    "    mean_true = tf.reduce_mean(y_true)\n",
    "    mean_pred = tf.reduce_mean(y_pred)\n",
    "\n",
    "    # Calculate standard deviation of true and predicted scores\n",
    "    std_true = tf.math.reduce_std(y_true)\n",
    "    std_pred = tf.math.reduce_std(y_pred)\n",
    "\n",
    "    # Calculate covariance of true and predicted scores\n",
    "    covariance = tf.reduce_mean((y_true - mean_true) * (y_pred - mean_pred))\n",
    "\n",
    "    # Calculate PLCC\n",
    "    plcc = covariance / (std_true * std_pred)\n",
    "    return plcc"
   ]
  },
  {
   "cell_type": "code",
   "execution_count": 8,
   "metadata": {
    "execution": {
     "iopub.execute_input": "2023-04-08T06:52:12.212274Z",
     "iopub.status.busy": "2023-04-08T06:52:12.211371Z",
     "iopub.status.idle": "2023-04-08T06:52:24.214601Z",
     "shell.execute_reply": "2023-04-08T06:52:24.213153Z",
     "shell.execute_reply.started": "2023-04-08T06:52:12.212245Z"
    }
   },
   "outputs": [
    {
     "name": "stdout",
     "output_type": "stream",
     "text": [
      "Downloading data from https://storage.googleapis.com/keras-applications/efficientnetb7_notop.h5\n",
      "258076736/258076736 [==============================] - 2s 0us/step\n"
     ]
    }
   ],
   "source": [
    "import csv\n",
    "import os\n",
    "import numpy as np\n",
    "import tensorflow as tf\n",
    "from tensorflow.keras.callbacks import CSVLogger,ReduceLROnPlateau\n",
    "from tensorflow.keras.optimizers import Adam, SGD, Nadam,RMSprop\n",
    "\n",
    "# Define callbacks\n",
    "checkpoint_callback = tf.keras.callbacks.ModelCheckpoint('/notebooks/IQA/model-koniq/BIQ2021_Final_BO_next.h5',monitor='val_plcc_train', \n",
    "                                                         save_best_only=True, mode='max',patience=10, verbose=1)\n",
    "early_stopping_callback = tf.keras.callbacks.EarlyStopping(monitor='val_plcc_train', mode='max', patience=50, verbose=1)\n",
    "reduce_lr = ReduceLROnPlateau(monitor='val_loss', factor=0.4, patience=5, min_lr=1e-12)\n",
    "# Create a CSVLogger callback to save the logs to a file\n",
    "log_file_path = os.path.join('/notebooks/IQA/log_dir-koniq/', 'BIQ2021_BO_next.csv')\n",
    "csv_logger = CSVLogger(log_file_path)\n",
    "# Compile the model with the mean squared error loss and the Adam optimizer\n",
    "model=model_qa(num_classes=1,input_shape=input_shape)\n",
    "# Set hyperparameters\n",
    "batch_size = 16\n",
    "num_epochs = 200\n",
    "learning_rate = 1e-4\n",
    "\n",
    "# # Compile model\n",
    "optimizer = Adam(learning_rate=learning_rate)\n",
    "model.compile(optimizer=optimizer, loss=koniq_combined_loss, metrics=['mae',plcc_train])"
   ]
  },
  {
   "cell_type": "code",
   "execution_count": null,
   "metadata": {
    "execution": {
     "iopub.execute_input": "2023-04-08T06:59:27.695424Z",
     "iopub.status.busy": "2023-04-08T06:59:27.694619Z"
    }
   },
   "outputs": [
    {
     "name": "stdout",
     "output_type": "stream",
     "text": [
      "Epoch 1/200\n",
      "500/500 [==============================] - ETA: 0s - loss: 22.6023 - mae: 1.5220 - plcc_train: 0.2617\n",
      "Epoch 1: val_plcc_train improved from -inf to 0.30217, saving model to /notebooks/IQA/model-koniq/BIQ2021_Final_BO_next.h5\n",
      "500/500 [==============================] - 608s 1s/step - loss: 22.6023 - mae: 1.5220 - plcc_train: 0.2617 - val_loss: 9.6526 - val_mae: 0.2674 - val_plcc_train: 0.3022 - lr: 1.0000e-04\n",
      "Epoch 2/200\n",
      "500/500 [==============================] - ETA: 0s - loss: 19.1415 - mae: 1.2537 - plcc_train: 0.3395\n",
      "Epoch 2: val_plcc_train improved from 0.30217 to 0.57413, saving model to /notebooks/IQA/model-koniq/BIQ2021_Final_BO_next.h5\n",
      "500/500 [==============================] - 558s 1s/step - loss: 19.1415 - mae: 1.2537 - plcc_train: 0.3395 - val_loss: 9.4158 - val_mae: 0.5158 - val_plcc_train: 0.5741 - lr: 1.0000e-04\n",
      "Epoch 3/200\n",
      "500/500 [==============================] - ETA: 0s - loss: 16.9203 - mae: 1.0620 - plcc_train: 0.3700\n",
      "Epoch 3: val_plcc_train improved from 0.57413 to 0.65523, saving model to /notebooks/IQA/model-koniq/BIQ2021_Final_BO_next.h5\n",
      "500/500 [==============================] - 543s 1s/step - loss: 16.9203 - mae: 1.0620 - plcc_train: 0.3700 - val_loss: 8.7586 - val_mae: 0.5310 - val_plcc_train: 0.6552 - lr: 1.0000e-04\n",
      "Epoch 4/200\n",
      "500/500 [==============================] - ETA: 0s - loss: 15.3096 - mae: 0.9600 - plcc_train: 0.4290\n",
      "Epoch 4: val_plcc_train improved from 0.65523 to 0.69353, saving model to /notebooks/IQA/model-koniq/BIQ2021_Final_BO_next.h5\n",
      "500/500 [==============================] - 543s 1s/step - loss: 15.3096 - mae: 0.9600 - plcc_train: 0.4290 - val_loss: 7.2076 - val_mae: 0.4145 - val_plcc_train: 0.6935 - lr: 1.0000e-04\n",
      "Epoch 5/200\n",
      "500/500 [==============================] - ETA: 0s - loss: 13.7134 - mae: 0.8381 - plcc_train: 0.4668\n",
      "Epoch 5: val_plcc_train did not improve from 0.69353\n",
      "500/500 [==============================] - 540s 1s/step - loss: 13.7134 - mae: 0.8381 - plcc_train: 0.4668 - val_loss: 6.4761 - val_mae: 0.3397 - val_plcc_train: 0.6921 - lr: 1.0000e-04\n",
      "Epoch 6/200\n",
      "500/500 [==============================] - ETA: 0s - loss: 12.1656 - mae: 0.7293 - plcc_train: 0.5128\n",
      "Epoch 6: val_plcc_train improved from 0.69353 to 0.74736, saving model to /notebooks/IQA/model-koniq/BIQ2021_Final_BO_next.h5\n",
      "500/500 [==============================] - 544s 1s/step - loss: 12.1656 - mae: 0.7293 - plcc_train: 0.5128 - val_loss: 6.0377 - val_mae: 0.3511 - val_plcc_train: 0.7474 - lr: 1.0000e-04\n",
      "Epoch 7/200\n",
      "500/500 [==============================] - ETA: 0s - loss: 10.8557 - mae: 0.6366 - plcc_train: 0.5510\n",
      "Epoch 7: val_plcc_train did not improve from 0.74736\n",
      "500/500 [==============================] - 539s 1s/step - loss: 10.8557 - mae: 0.6366 - plcc_train: 0.5510 - val_loss: 5.2673 - val_mae: 0.2688 - val_plcc_train: 0.7420 - lr: 1.0000e-04\n",
      "Epoch 8/200\n",
      "500/500 [==============================] - ETA: 0s - loss: 9.8259 - mae: 0.5765 - plcc_train: 0.5939\n",
      "Epoch 8: val_plcc_train improved from 0.74736 to 0.76142, saving model to /notebooks/IQA/model-koniq/BIQ2021_Final_BO_next.h5\n",
      "500/500 [==============================] - 544s 1s/step - loss: 9.8259 - mae: 0.5765 - plcc_train: 0.5939 - val_loss: 4.4261 - val_mae: 0.2041 - val_plcc_train: 0.7614 - lr: 1.0000e-04\n",
      "Epoch 9/200\n",
      "500/500 [==============================] - ETA: 0s - loss: 8.7286 - mae: 0.4898 - plcc_train: 0.6170\n",
      "Epoch 9: val_plcc_train improved from 0.76142 to 0.78386, saving model to /notebooks/IQA/model-koniq/BIQ2021_Final_BO_next.h5\n",
      "500/500 [==============================] - 544s 1s/step - loss: 8.7286 - mae: 0.4898 - plcc_train: 0.6170 - val_loss: 4.1906 - val_mae: 0.2029 - val_plcc_train: 0.7839 - lr: 1.0000e-04\n",
      "Epoch 10/200\n",
      "500/500 [==============================] - ETA: 0s - loss: 7.4890 - mae: 0.4164 - plcc_train: 0.6675\n",
      "Epoch 10: val_plcc_train improved from 0.78386 to 0.78786, saving model to /notebooks/IQA/model-koniq/BIQ2021_Final_BO_next.h5\n",
      "500/500 [==============================] - 544s 1s/step - loss: 7.4890 - mae: 0.4164 - plcc_train: 0.6675 - val_loss: 4.3559 - val_mae: 0.2234 - val_plcc_train: 0.7879 - lr: 1.0000e-04\n",
      "Epoch 11/200\n",
      "500/500 [==============================] - ETA: 0s - loss: 6.6983 - mae: 0.3670 - plcc_train: 0.6972\n",
      "Epoch 11: val_plcc_train did not improve from 0.78786\n",
      "500/500 [==============================] - 553s 1s/step - loss: 6.6983 - mae: 0.3670 - plcc_train: 0.6972 - val_loss: 3.9310 - val_mae: 0.1760 - val_plcc_train: 0.7830 - lr: 1.0000e-04\n",
      "Epoch 12/200\n",
      "500/500 [==============================] - ETA: 0s - loss: 5.8335 - mae: 0.3077 - plcc_train: 0.7243\n",
      "Epoch 12: val_plcc_train did not improve from 0.78786\n",
      "500/500 [==============================] - 541s 1s/step - loss: 5.8335 - mae: 0.3077 - plcc_train: 0.7243 - val_loss: 3.8875 - val_mae: 0.1321 - val_plcc_train: 0.7432 - lr: 1.0000e-04\n",
      "Epoch 13/200\n",
      "500/500 [==============================] - ETA: 0s - loss: 5.3807 - mae: 0.2667 - plcc_train: 0.7287\n",
      "Epoch 13: val_plcc_train improved from 0.78786 to 0.80056, saving model to /notebooks/IQA/model-koniq/BIQ2021_Final_BO_next.h5\n",
      "500/500 [==============================] - 548s 1s/step - loss: 5.3807 - mae: 0.2667 - plcc_train: 0.7287 - val_loss: 3.6006 - val_mae: 0.1607 - val_plcc_train: 0.8006 - lr: 1.0000e-04\n",
      "Epoch 14/200\n",
      "500/500 [==============================] - ETA: 0s - loss: 4.6231 - mae: 0.2228 - plcc_train: 0.7605\n",
      "Epoch 14: val_plcc_train did not improve from 0.80056\n",
      "500/500 [==============================] - 543s 1s/step - loss: 4.6231 - mae: 0.2228 - plcc_train: 0.7605 - val_loss: 3.3721 - val_mae: 0.1104 - val_plcc_train: 0.7732 - lr: 1.0000e-04\n",
      "Epoch 15/200\n",
      "500/500 [==============================] - ETA: 0s - loss: 3.7315 - mae: 0.1712 - plcc_train: 0.7980\n",
      "Epoch 16: val_plcc_train did not improve from 0.80056\n",
      "500/500 [==============================] - 542s 1s/step - loss: 3.7315 - mae: 0.1712 - plcc_train: 0.7980 - val_loss: 4.1795 - val_mae: 0.1522 - val_plcc_train: 0.7342 - lr: 1.0000e-04\n",
      "Epoch 17/200\n",
      "500/500 [==============================] - ETA: 0s - loss: 3.4142 - mae: 0.1530 - plcc_train: 0.8116\n",
      "Epoch 17: val_plcc_train improved from 0.80056 to 0.81573, saving model to /notebooks/IQA/model-koniq/BIQ2021_Final_BO_next.h5\n",
      "500/500 [==============================] - 547s 1s/step - loss: 3.4142 - mae: 0.1530 - plcc_train: 0.8116 - val_loss: 2.8957 - val_mae: 0.1053 - val_plcc_train: 0.8157 - lr: 1.0000e-04\n",
      "Epoch 18/200\n",
      "500/500 [==============================] - ETA: 0s - loss: 3.0197 - mae: 0.1378 - plcc_train: 0.8358\n",
      "Epoch 18: val_plcc_train did not improve from 0.81573\n",
      "500/500 [==============================] - 542s 1s/step - loss: 3.0197 - mae: 0.1378 - plcc_train: 0.8358 - val_loss: 3.0470 - val_mae: 0.1036 - val_plcc_train: 0.7990 - lr: 1.0000e-04\n",
      "Epoch 19/200\n",
      "500/500 [==============================] - ETA: 0s - loss: 2.7022 - mae: 0.1200 - plcc_train: 0.8498\n",
      "Epoch 19: val_plcc_train did not improve from 0.81573\n",
      "500/500 [==============================] - 543s 1s/step - loss: 2.7022 - mae: 0.1200 - plcc_train: 0.8498 - val_loss: 3.1988 - val_mae: 0.0959 - val_plcc_train: 0.7760 - lr: 1.0000e-04\n",
      "Epoch 20/200\n",
      "500/500 [==============================] - ETA: 0s - loss: 2.3304 - mae: 0.1081 - plcc_train: 0.8751\n",
      "Epoch 20: val_plcc_train did not improve from 0.81573\n",
      "500/500 [==============================] - 543s 1s/step - loss: 2.3304 - mae: 0.1081 - plcc_train: 0.8751 - val_loss: 2.9730 - val_mae: 0.0911 - val_plcc_train: 0.7938 - lr: 1.0000e-04\n",
      "Epoch 21/200\n",
      "500/500 [==============================] - ETA: 0s - loss: 2.1029 - mae: 0.0979 - plcc_train: 0.8876\n",
      "Epoch 21: val_plcc_train did not improve from 0.81573\n",
      "500/500 [==============================] - 542s 1s/step - loss: 2.1029 - mae: 0.0979 - plcc_train: 0.8876 - val_loss: 3.1087 - val_mae: 0.0947 - val_plcc_train: 0.7839 - lr: 1.0000e-04\n",
      "Epoch 22/200\n",
      "500/500 [==============================] - ETA: 0s - loss: 1.8254 - mae: 0.0874 - plcc_train: 0.9048\n",
      "Epoch 22: val_plcc_train did not improve from 0.81573\n",
      "500/500 [==============================] - 542s 1s/step - loss: 1.8254 - mae: 0.0874 - plcc_train: 0.9048 - val_loss: 2.6796 - val_mae: 0.0801 - val_plcc_train: 0.8121 - lr: 1.0000e-04\n",
      "Epoch 23/200\n",
      "500/500 [==============================] - ETA: 0s - loss: 1.7188 - mae: 0.0829 - plcc_train: 0.9111\n",
      "Epoch 23: val_plcc_train improved from 0.81573 to 0.82746, saving model to /notebooks/IQA/model-koniq/BIQ2021_Final_BO_next.h5\n",
      "500/500 [==============================] - 562s 1s/step - loss: 1.7188 - mae: 0.0829 - plcc_train: 0.9111 - val_loss: 2.4894 - val_mae: 0.0764 - val_plcc_train: 0.8275 - lr: 1.0000e-04\n",
      "Epoch 24/200\n",
      "500/500 [==============================] - ETA: 0s - loss: 1.5106 - mae: 0.0748 - plcc_train: 0.9238\n",
      "Epoch 24: val_plcc_train did not improve from 0.82746\n",
      "500/500 [==============================] - 543s 1s/step - loss: 1.5106 - mae: 0.0748 - plcc_train: 0.9238 - val_loss: 2.6685 - val_mae: 0.0792 - val_plcc_train: 0.8124 - lr: 1.0000e-04\n",
      "Epoch 25/200\n",
      "500/500 [==============================] - ETA: 0s - loss: 1.3581 - mae: 0.0697 - plcc_train: 0.9339\n",
      "Epoch 25: val_plcc_train did not improve from 0.82746\n",
      "500/500 [==============================] - 543s 1s/step - loss: 1.3581 - mae: 0.0697 - plcc_train: 0.9339 - val_loss: 2.6063 - val_mae: 0.0782 - val_plcc_train: 0.8176 - lr: 1.0000e-04\n",
      "Epoch 26/200\n",
      "500/500 [==============================] - ETA: 0s - loss: 1.3027 - mae: 0.0674 - plcc_train: 0.9371\n",
      "Epoch 26: val_plcc_train did not improve from 0.82746\n",
      "500/500 [==============================] - 556s 1s/step - loss: 1.3027 - mae: 0.0674 - plcc_train: 0.9371 - val_loss: 2.5305 - val_mae: 0.0753 - val_plcc_train: 0.8224 - lr: 1.0000e-04\n",
      "Epoch 27/200\n",
      "500/500 [==============================] - ETA: 0s - loss: 1.1320 - mae: 0.0610 - plcc_train: 0.9478\n",
      "Epoch 27: val_plcc_train did not improve from 0.82746\n",
      "500/500 [==============================] - 543s 1s/step - loss: 1.1320 - mae: 0.0610 - plcc_train: 0.9478 - val_loss: 2.5123 - val_mae: 0.0763 - val_plcc_train: 0.8251 - lr: 1.0000e-04\n",
      "Epoch 28/200\n",
      "500/500 [==============================] - ETA: 0s - loss: 1.0990 - mae: 0.0612 - plcc_train: 0.9513\n",
      "Epoch 28: val_plcc_train did not improve from 0.82746\n",
      "500/500 [==============================] - 543s 1s/step - loss: 1.0990 - mae: 0.0612 - plcc_train: 0.9513 - val_loss: 2.6004 - val_mae: 0.0799 - val_plcc_train: 0.8199 - lr: 1.0000e-04\n",
      "Epoch 29/200\n",
      "278/500 [===============>..............] - ETA: 3:48 - loss: 0.6922 - mae: 0.0490 - plcc_train: 0.9798"
     ]
    }
   ],
   "source": [
    "# Train the model on the training set\n",
    "history=model.fit(train_generator,\n",
    "          epochs=num_epochs,\n",
    "          validation_data=val_generator,\n",
    "          callbacks=[checkpoint_callback, early_stopping_callback,csv_logger,reduce_lr])"
   ]
  },
  {
   "cell_type": "markdown",
   "metadata": {},
   "source": [
    "--------------------------------------------------------------------------------------------------------------------------------------\n",
    "--------------------------------------------------------------------------------------------------------------------------------------\n",
    "--------------------------------------------------------------------------------------------------------------------------------------\n"
   ]
  },
  {
   "cell_type": "code",
   "execution_count": 53,
   "metadata": {
    "execution": {
     "iopub.execute_input": "2023-04-01T06:05:42.485101Z",
     "iopub.status.busy": "2023-04-01T06:05:42.484707Z",
     "iopub.status.idle": "2023-04-01T06:05:42.497387Z",
     "shell.execute_reply": "2023-04-01T06:05:42.496562Z",
     "shell.execute_reply.started": "2023-04-01T06:05:42.485072Z"
    }
   },
   "outputs": [],
   "source": [
    "import os\n",
    "train_dir='/notebooks/LIVEC/ChallengeDB_release/Images/'\n",
    "abs_file_names = []\n",
    "test_df = pd.read_csv('/notebooks/LIVEC/LIVEC.csv',names=['image_name', 'MOS'])\n",
    "\n",
    "for file_name in test_df['image_name']:\n",
    "    tmp = os.path.abspath(train_dir+file_name)\n",
    "    abs_file_names.append(tmp)\n",
    "\n",
    "# update dataframe\n",
    "test_df['Image_name'] = abs_file_names"
   ]
  },
  {
   "cell_type": "code",
   "execution_count": 54,
   "metadata": {
    "execution": {
     "iopub.execute_input": "2023-04-01T06:05:44.719894Z",
     "iopub.status.busy": "2023-04-01T06:05:44.719174Z",
     "iopub.status.idle": "2023-04-01T06:05:44.731358Z",
     "shell.execute_reply": "2023-04-01T06:05:44.730434Z",
     "shell.execute_reply.started": "2023-04-01T06:05:44.719864Z"
    }
   },
   "outputs": [
    {
     "data": {
      "text/html": [
       "<div>\n",
       "<style scoped>\n",
       "    .dataframe tbody tr th:only-of-type {\n",
       "        vertical-align: middle;\n",
       "    }\n",
       "\n",
       "    .dataframe tbody tr th {\n",
       "        vertical-align: top;\n",
       "    }\n",
       "\n",
       "    .dataframe thead th {\n",
       "        text-align: right;\n",
       "    }\n",
       "</style>\n",
       "<table border=\"1\" class=\"dataframe\">\n",
       "  <thead>\n",
       "    <tr style=\"text-align: right;\">\n",
       "      <th></th>\n",
       "      <th>image_name</th>\n",
       "      <th>MOS</th>\n",
       "      <th>Image_name</th>\n",
       "    </tr>\n",
       "  </thead>\n",
       "  <tbody>\n",
       "    <tr>\n",
       "      <th>0</th>\n",
       "      <td>t1.bmp</td>\n",
       "      <td>63.963406</td>\n",
       "      <td>/notebooks/LIVEC/ChallengeDB_release/Images/t1...</td>\n",
       "    </tr>\n",
       "    <tr>\n",
       "      <th>1</th>\n",
       "      <td>t2.bmp</td>\n",
       "      <td>25.335306</td>\n",
       "      <td>/notebooks/LIVEC/ChallengeDB_release/Images/t2...</td>\n",
       "    </tr>\n",
       "    <tr>\n",
       "      <th>2</th>\n",
       "      <td>t3.bmp</td>\n",
       "      <td>48.936563</td>\n",
       "      <td>/notebooks/LIVEC/ChallengeDB_release/Images/t3...</td>\n",
       "    </tr>\n",
       "    <tr>\n",
       "      <th>3</th>\n",
       "      <td>t4.bmp</td>\n",
       "      <td>35.886332</td>\n",
       "      <td>/notebooks/LIVEC/ChallengeDB_release/Images/t4...</td>\n",
       "    </tr>\n",
       "    <tr>\n",
       "      <th>4</th>\n",
       "      <td>t5.bmp</td>\n",
       "      <td>66.509237</td>\n",
       "      <td>/notebooks/LIVEC/ChallengeDB_release/Images/t5...</td>\n",
       "    </tr>\n",
       "    <tr>\n",
       "      <th>...</th>\n",
       "      <td>...</td>\n",
       "      <td>...</td>\n",
       "      <td>...</td>\n",
       "    </tr>\n",
       "    <tr>\n",
       "      <th>1164</th>\n",
       "      <td>1160.bmp</td>\n",
       "      <td>21.685859</td>\n",
       "      <td>/notebooks/LIVEC/ChallengeDB_release/Images/11...</td>\n",
       "    </tr>\n",
       "    <tr>\n",
       "      <th>1165</th>\n",
       "      <td>1161.bmp</td>\n",
       "      <td>11.900285</td>\n",
       "      <td>/notebooks/LIVEC/ChallengeDB_release/Images/11...</td>\n",
       "    </tr>\n",
       "    <tr>\n",
       "      <th>1166</th>\n",
       "      <td>1162.bmp</td>\n",
       "      <td>62.661712</td>\n",
       "      <td>/notebooks/LIVEC/ChallengeDB_release/Images/11...</td>\n",
       "    </tr>\n",
       "    <tr>\n",
       "      <th>1167</th>\n",
       "      <td>1163.bmp</td>\n",
       "      <td>87.065592</td>\n",
       "      <td>/notebooks/LIVEC/ChallengeDB_release/Images/11...</td>\n",
       "    </tr>\n",
       "    <tr>\n",
       "      <th>1168</th>\n",
       "      <td>1164.bmp</td>\n",
       "      <td>72.753871</td>\n",
       "      <td>/notebooks/LIVEC/ChallengeDB_release/Images/11...</td>\n",
       "    </tr>\n",
       "  </tbody>\n",
       "</table>\n",
       "<p>1169 rows × 3 columns</p>\n",
       "</div>"
      ],
      "text/plain": [
       "     image_name        MOS                                         Image_name\n",
       "0        t1.bmp  63.963406  /notebooks/LIVEC/ChallengeDB_release/Images/t1...\n",
       "1        t2.bmp  25.335306  /notebooks/LIVEC/ChallengeDB_release/Images/t2...\n",
       "2        t3.bmp  48.936563  /notebooks/LIVEC/ChallengeDB_release/Images/t3...\n",
       "3        t4.bmp  35.886332  /notebooks/LIVEC/ChallengeDB_release/Images/t4...\n",
       "4        t5.bmp  66.509237  /notebooks/LIVEC/ChallengeDB_release/Images/t5...\n",
       "...         ...        ...                                                ...\n",
       "1164   1160.bmp  21.685859  /notebooks/LIVEC/ChallengeDB_release/Images/11...\n",
       "1165   1161.bmp  11.900285  /notebooks/LIVEC/ChallengeDB_release/Images/11...\n",
       "1166   1162.bmp  62.661712  /notebooks/LIVEC/ChallengeDB_release/Images/11...\n",
       "1167   1163.bmp  87.065592  /notebooks/LIVEC/ChallengeDB_release/Images/11...\n",
       "1168   1164.bmp  72.753871  /notebooks/LIVEC/ChallengeDB_release/Images/11...\n",
       "\n",
       "[1169 rows x 3 columns]"
      ]
     },
     "execution_count": 54,
     "metadata": {},
     "output_type": "execute_result"
    }
   ],
   "source": [
    "test_df"
   ]
  },
  {
   "cell_type": "code",
   "execution_count": 27,
   "metadata": {
    "execution": {
     "iopub.execute_input": "2023-04-01T04:02:42.988986Z",
     "iopub.status.busy": "2023-04-01T04:02:42.988638Z",
     "iopub.status.idle": "2023-04-01T04:02:43.144110Z",
     "shell.execute_reply": "2023-04-01T04:02:43.143105Z",
     "shell.execute_reply.started": "2023-04-01T04:02:42.988959Z"
    }
   },
   "outputs": [],
   "source": [
    "data=test_df\n",
    "data = data.sample(frac=1).reset_index(drop=True)\n",
    "from sklearn.model_selection import train_test_split\n",
    "\n",
    "train, test_val = train_test_split(data, test_size=0.3, random_state=42)\n",
    "test, val = train_test_split(test_val, test_size=0.5, random_state=42)\n",
    "\n",
    "train.to_csv('/notebooks/storage/tid2013/tid2013train.csv', index=False)\n",
    "test.to_csv('/notebooks/storage/tid2013/tid2013test.csv', index=False)\n",
    "val.to_csv('/notebooks/storage/tid2013/tid2013val.csv', index=False)\n"
   ]
  },
  {
   "cell_type": "code",
   "execution_count": 55,
   "metadata": {
    "execution": {
     "iopub.execute_input": "2023-04-01T06:06:12.620869Z",
     "iopub.status.busy": "2023-04-01T06:06:12.620208Z",
     "iopub.status.idle": "2023-04-01T06:06:13.060573Z",
     "shell.execute_reply": "2023-04-01T06:06:13.059586Z",
     "shell.execute_reply.started": "2023-04-01T06:06:12.620840Z"
    }
   },
   "outputs": [
    {
     "name": "stdout",
     "output_type": "stream",
     "text": [
      "Found 1169 validated image filenames.\n"
     ]
    }
   ],
   "source": [
    "# Define the image dimensions and other hyperparameters\n",
    "img_width, img_height = 224, 224\n",
    "batch_size = 5\n",
    "\n",
    "# Load the TID2013 dataset\n",
    "test_datagen = ImageDataGenerator(rescale=1./255)\n",
    "test_generator = train_datagen.flow_from_dataframe(test_df,\n",
    "                                                    train_dir=None,\n",
    "                                                    target_size=(img_width, img_height),\n",
    "                                                    batch_size=batch_size,\n",
    "                                                    class_mode='raw',\n",
    "                                                    x_col='Image_name',\n",
    "                                                    y_col='MOS',\n",
    "                                                    shuffle=False,\n",
    "                                                    seed=0\n",
    "                                                    )"
   ]
  },
  {
   "cell_type": "markdown",
   "metadata": {},
   "source": [
    "#Retraning"
   ]
  },
  {
   "cell_type": "code",
   "execution_count": 5,
   "metadata": {
    "execution": {
     "iopub.execute_input": "2023-07-24T07:36:35.235069Z",
     "iopub.status.busy": "2023-07-24T07:36:35.234816Z",
     "iopub.status.idle": "2023-07-24T07:36:45.542676Z",
     "shell.execute_reply": "2023-07-24T07:36:45.542012Z",
     "shell.execute_reply.started": "2023-07-24T07:36:35.235051Z"
    }
   },
   "outputs": [],
   "source": [
    "import csv\n",
    "import os\n",
    "import numpy as np\n",
    "import tensorflow as tf\n",
    "new_model = tf.keras.models.load_model('/notebooks/IQA/model-koniq/BIQA-after-28.h5',custom_objects={\"plcc_train\": plcc_train,\"koniq_combined_loss\":koniq_combined_loss})"
   ]
  },
  {
   "cell_type": "code",
   "execution_count": 12,
   "metadata": {
    "execution": {
     "iopub.execute_input": "2023-04-05T12:56:33.830900Z",
     "iopub.status.busy": "2023-04-05T12:56:33.830613Z",
     "iopub.status.idle": "2023-04-05T12:56:33.837513Z",
     "shell.execute_reply": "2023-04-05T12:56:33.836651Z",
     "shell.execute_reply.started": "2023-04-05T12:56:33.830879Z"
    }
   },
   "outputs": [],
   "source": [
    "import csv\n",
    "import os\n",
    "import numpy as np\n",
    "import tensorflow as tf\n",
    "from tensorflow.keras.callbacks import CSVLogger\n",
    "from tensorflow.keras.callbacks import CSVLogger,ReduceLROnPlateau\n",
    "from tensorflow.keras.optimizers import Adam\n",
    "#Define callbacks\n",
    "checkpoint_callback = tf.keras.callbacks.ModelCheckpoint('/notebooks/IQA/model-koniq/BIQA-after-28.h5', monitor='val_mae', save_best_only=True,patience=15)\n",
    "earlystop_callback = tf.keras.callbacks.EarlyStopping(monitor='val_mae', patience=15)\n",
    "# Create a CSVLogger callback to save the logs to a file\n",
    "log_file_path = os.path.join('/notebooks/IQA/log_dir-koniq/', 'BIQA_after-28.csv')\n",
    "csv_logger = CSVLogger(log_file_path)\n",
    "reduce_lr = ReduceLROnPlateau(monitor='val_loss', factor=0.2, patience=5, min_lr=1e-8)\n",
    "\n",
    "# Set hyperparameters\n",
    "batch_size = 10\n",
    "num_epochs = 32\n",
    "learning_rate = 1e-6"
   ]
  },
  {
   "cell_type": "code",
   "execution_count": 13,
   "metadata": {
    "execution": {
     "iopub.execute_input": "2023-04-05T12:56:37.751136Z",
     "iopub.status.busy": "2023-04-05T12:56:37.750873Z",
     "iopub.status.idle": "2023-04-05T15:58:29.457948Z",
     "shell.execute_reply": "2023-04-05T15:58:29.457025Z",
     "shell.execute_reply.started": "2023-04-05T12:56:37.751115Z"
    }
   },
   "outputs": [
    {
     "name": "stdout",
     "output_type": "stream",
     "text": [
      "Epoch 1/32\n"
     ]
    },
    {
     "name": "stderr",
     "output_type": "stream",
     "text": [
      "2023-04-05 12:57:00.836611: W tensorflow/core/common_runtime/bfc_allocator.cc:290] Allocator (GPU_0_bfc) ran out of memory trying to allocate 3.54GiB with freed_by_count=0. The caller indicates that this is not a failure, but this may mean that there could be performance gains if more memory were available.\n",
      "2023-04-05 12:57:00.836676: W tensorflow/core/common_runtime/bfc_allocator.cc:290] Allocator (GPU_0_bfc) ran out of memory trying to allocate 3.54GiB with freed_by_count=0. The caller indicates that this is not a failure, but this may mean that there could be performance gains if more memory were available.\n",
      "2023-04-05 12:57:00.843410: W tensorflow/core/common_runtime/bfc_allocator.cc:290] Allocator (GPU_0_bfc) ran out of memory trying to allocate 3.62GiB with freed_by_count=0. The caller indicates that this is not a failure, but this may mean that there could be performance gains if more memory were available.\n",
      "2023-04-05 12:57:00.843464: W tensorflow/core/common_runtime/bfc_allocator.cc:290] Allocator (GPU_0_bfc) ran out of memory trying to allocate 3.62GiB with freed_by_count=0. The caller indicates that this is not a failure, but this may mean that there could be performance gains if more memory were available.\n"
     ]
    },
    {
     "name": "stdout",
     "output_type": "stream",
     "text": [
      "500/500 [==============================] - ETA: 0s - loss: 1.8959 - mae: 0.0964 - plcc_train: 0.9068"
     ]
    },
    {
     "name": "stderr",
     "output_type": "stream",
     "text": [
      "2023-04-05 13:02:44.280578: W tensorflow/core/common_runtime/bfc_allocator.cc:290] Allocator (GPU_0_bfc) ran out of memory trying to allocate 3.26GiB with freed_by_count=0. The caller indicates that this is not a failure, but this may mean that there could be performance gains if more memory were available.\n",
      "2023-04-05 13:02:44.280647: W tensorflow/core/common_runtime/bfc_allocator.cc:290] Allocator (GPU_0_bfc) ran out of memory trying to allocate 3.26GiB with freed_by_count=0. The caller indicates that this is not a failure, but this may mean that there could be performance gains if more memory were available.\n",
      "2023-04-05 13:02:44.380031: W tensorflow/core/common_runtime/bfc_allocator.cc:290] Allocator (GPU_0_bfc) ran out of memory trying to allocate 3.56GiB with freed_by_count=0. The caller indicates that this is not a failure, but this may mean that there could be performance gains if more memory were available.\n",
      "2023-04-05 13:02:44.380094: W tensorflow/core/common_runtime/bfc_allocator.cc:290] Allocator (GPU_0_bfc) ran out of memory trying to allocate 3.56GiB with freed_by_count=0. The caller indicates that this is not a failure, but this may mean that there could be performance gains if more memory were available.\n"
     ]
    },
    {
     "name": "stdout",
     "output_type": "stream",
     "text": [
      "500/500 [==============================] - 370s 692ms/step - loss: 1.8959 - mae: 0.0964 - plcc_train: 0.9068 - val_loss: 2.6979 - val_mae: 0.0972 - val_plcc_train: 0.8274 - lr: 1.0000e-04\n",
      "Epoch 2/32\n",
      "500/500 [==============================] - 339s 678ms/step - loss: 1.6375 - mae: 0.0858 - plcc_train: 0.9220 - val_loss: 2.2847 - val_mae: 0.0733 - val_plcc_train: 0.8448 - lr: 1.0000e-04\n",
      "Epoch 3/32\n",
      "500/500 [==============================] - 337s 673ms/step - loss: 1.4176 - mae: 0.0771 - plcc_train: 0.9353 - val_loss: 2.3935 - val_mae: 0.0845 - val_plcc_train: 0.8452 - lr: 1.0000e-04\n",
      "Epoch 4/32\n",
      "500/500 [==============================] - 340s 679ms/step - loss: 1.2786 - mae: 0.0705 - plcc_train: 0.9427 - val_loss: 2.2737 - val_mae: 0.0731 - val_plcc_train: 0.8457 - lr: 1.0000e-04\n",
      "Epoch 5/32\n",
      "500/500 [==============================] - 337s 673ms/step - loss: 1.1385 - mae: 0.0650 - plcc_train: 0.9512 - val_loss: 2.4706 - val_mae: 0.0816 - val_plcc_train: 0.8346 - lr: 1.0000e-04\n",
      "Epoch 6/32\n",
      "500/500 [==============================] - 340s 680ms/step - loss: 1.0395 - mae: 0.0616 - plcc_train: 0.9576 - val_loss: 2.2825 - val_mae: 0.0713 - val_plcc_train: 0.8431 - lr: 1.0000e-04\n",
      "Epoch 7/32\n",
      "500/500 [==============================] - 339s 678ms/step - loss: 0.9857 - mae: 0.0603 - plcc_train: 0.9617 - val_loss: 2.1118 - val_mae: 0.0696 - val_plcc_train: 0.8585 - lr: 1.0000e-04\n",
      "Epoch 8/32\n",
      "500/500 [==============================] - 337s 673ms/step - loss: 0.8841 - mae: 0.0553 - plcc_train: 0.9669 - val_loss: 2.2288 - val_mae: 0.0729 - val_plcc_train: 0.8499 - lr: 1.0000e-04\n",
      "Epoch 9/32\n",
      "500/500 [==============================] - 340s 680ms/step - loss: 0.8562 - mae: 0.0555 - plcc_train: 0.9699 - val_loss: 2.0868 - val_mae: 0.0675 - val_plcc_train: 0.8589 - lr: 1.0000e-04\n",
      "Epoch 10/32\n",
      "500/500 [==============================] - 338s 675ms/step - loss: 0.8662 - mae: 0.0562 - plcc_train: 0.9696 - val_loss: 2.3416 - val_mae: 0.0726 - val_plcc_train: 0.8384 - lr: 1.0000e-04\n",
      "Epoch 11/32\n",
      "500/500 [==============================] - 337s 675ms/step - loss: 0.8264 - mae: 0.0548 - plcc_train: 0.9721 - val_loss: 2.2353 - val_mae: 0.0683 - val_plcc_train: 0.8447 - lr: 1.0000e-04\n",
      "Epoch 12/32\n",
      "500/500 [==============================] - 337s 674ms/step - loss: 0.7759 - mae: 0.0523 - plcc_train: 0.9747 - val_loss: 2.4927 - val_mae: 0.0758 - val_plcc_train: 0.8266 - lr: 1.0000e-04\n",
      "Epoch 13/32\n",
      "500/500 [==============================] - 338s 676ms/step - loss: 0.7544 - mae: 0.0508 - plcc_train: 0.9753 - val_loss: 2.2053 - val_mae: 0.0711 - val_plcc_train: 0.8506 - lr: 1.0000e-04\n",
      "Epoch 14/32\n",
      "500/500 [==============================] - 339s 679ms/step - loss: 0.7545 - mae: 0.0525 - plcc_train: 0.9771 - val_loss: 2.0791 - val_mae: 0.0668 - val_plcc_train: 0.8589 - lr: 1.0000e-04\n",
      "Epoch 15/32\n",
      "500/500 [==============================] - 340s 679ms/step - loss: 0.7615 - mae: 0.0518 - plcc_train: 0.9757 - val_loss: 2.0625 - val_mae: 0.0659 - val_plcc_train: 0.8597 - lr: 1.0000e-04\n",
      "Epoch 16/32\n",
      "500/500 [==============================] - 337s 673ms/step - loss: 0.7314 - mae: 0.0510 - plcc_train: 0.9779 - val_loss: 2.0825 - val_mae: 0.0680 - val_plcc_train: 0.8597 - lr: 1.0000e-04\n",
      "Epoch 17/32\n",
      "500/500 [==============================] - 337s 673ms/step - loss: 0.7084 - mae: 0.0512 - plcc_train: 0.9804 - val_loss: 2.1264 - val_mae: 0.0666 - val_plcc_train: 0.8540 - lr: 1.0000e-04\n",
      "Epoch 18/32\n",
      "500/500 [==============================] - 337s 674ms/step - loss: 0.7047 - mae: 0.0505 - plcc_train: 0.9801 - val_loss: 2.0733 - val_mae: 0.0668 - val_plcc_train: 0.8595 - lr: 1.0000e-04\n",
      "Epoch 19/32\n",
      "500/500 [==============================] - 337s 673ms/step - loss: 0.7360 - mae: 0.0509 - plcc_train: 0.9773 - val_loss: 2.0292 - val_mae: 0.0668 - val_plcc_train: 0.8639 - lr: 1.0000e-04\n",
      "Epoch 20/32\n",
      "500/500 [==============================] - 336s 671ms/step - loss: 0.7196 - mae: 0.0508 - plcc_train: 0.9789 - val_loss: 2.4587 - val_mae: 0.0739 - val_plcc_train: 0.8281 - lr: 1.0000e-04\n",
      "Epoch 21/32\n",
      "500/500 [==============================] - 340s 680ms/step - loss: 0.6858 - mae: 0.0491 - plcc_train: 0.9806 - val_loss: 2.1664 - val_mae: 0.0646 - val_plcc_train: 0.8479 - lr: 1.0000e-04\n",
      "Epoch 22/32\n",
      "500/500 [==============================] - 336s 673ms/step - loss: 0.7139 - mae: 0.0513 - plcc_train: 0.9799 - val_loss: 2.0829 - val_mae: 0.0659 - val_plcc_train: 0.8577 - lr: 1.0000e-04\n",
      "Epoch 23/32\n",
      "500/500 [==============================] - 337s 673ms/step - loss: 0.6933 - mae: 0.0501 - plcc_train: 0.9808 - val_loss: 2.6005 - val_mae: 0.0797 - val_plcc_train: 0.8197 - lr: 1.0000e-04\n",
      "Epoch 24/32\n",
      "500/500 [==============================] - 336s 671ms/step - loss: 0.6800 - mae: 0.0501 - plcc_train: 0.9821 - val_loss: 2.0951 - val_mae: 0.0648 - val_plcc_train: 0.8553 - lr: 1.0000e-04\n",
      "Epoch 25/32\n",
      "500/500 [==============================] - 339s 678ms/step - loss: 0.6140 - mae: 0.0477 - plcc_train: 0.9863 - val_loss: 1.9100 - val_mae: 0.0625 - val_plcc_train: 0.8713 - lr: 2.0000e-05\n",
      "Epoch 26/32\n",
      "500/500 [==============================] - 335s 669ms/step - loss: 0.5782 - mae: 0.0455 - plcc_train: 0.9877 - val_loss: 1.9583 - val_mae: 0.0632 - val_plcc_train: 0.8674 - lr: 2.0000e-05\n",
      "Epoch 27/32\n",
      "500/500 [==============================] - 335s 670ms/step - loss: 0.5876 - mae: 0.0472 - plcc_train: 0.9885 - val_loss: 1.9418 - val_mae: 0.0634 - val_plcc_train: 0.8692 - lr: 2.0000e-05\n",
      "Epoch 28/32\n",
      "500/500 [==============================] - 338s 676ms/step - loss: 0.5809 - mae: 0.0473 - plcc_train: 0.9892 - val_loss: 1.8478 - val_mae: 0.0615 - val_plcc_train: 0.8767 - lr: 2.0000e-05\n",
      "Epoch 29/32\n",
      "500/500 [==============================] - 336s 671ms/step - loss: 0.5406 - mae: 0.0443 - plcc_train: 0.9902 - val_loss: 1.8991 - val_mae: 0.0616 - val_plcc_train: 0.8717 - lr: 2.0000e-05\n",
      "Epoch 30/32\n",
      "500/500 [==============================] - 335s 670ms/step - loss: 0.5768 - mae: 0.0475 - plcc_train: 0.9898 - val_loss: 1.9225 - val_mae: 0.0622 - val_plcc_train: 0.8700 - lr: 2.0000e-05\n",
      "Epoch 31/32\n",
      "500/500 [==============================] - 335s 670ms/step - loss: 0.5540 - mae: 0.0463 - plcc_train: 0.9909 - val_loss: 1.9449 - val_mae: 0.0621 - val_plcc_train: 0.8676 - lr: 2.0000e-05\n",
      "Epoch 32/32\n",
      "500/500 [==============================] - 335s 670ms/step - loss: 0.5421 - mae: 0.0454 - plcc_train: 0.9912 - val_loss: 1.8624 - val_mae: 0.0615 - val_plcc_train: 0.8752 - lr: 2.0000e-05\n"
     ]
    }
   ],
   "source": [
    "# Train the model on the training set\n",
    "history=new_model.fit(train_generator,\n",
    "          epochs=num_epochs,\n",
    "          validation_data=val_generator,\n",
    "          callbacks=[checkpoint_callback, earlystop_callback,csv_logger,reduce_lr])"
   ]
  },
  {
   "cell_type": "code",
   "execution_count": 5,
   "metadata": {
    "execution": {
     "iopub.execute_input": "2023-07-24T08:20:29.539358Z",
     "iopub.status.busy": "2023-07-24T08:20:29.538754Z",
     "iopub.status.idle": "2023-07-24T08:20:40.146926Z",
     "shell.execute_reply": "2023-07-24T08:20:40.146224Z",
     "shell.execute_reply.started": "2023-07-24T08:20:29.539334Z"
    }
   },
   "outputs": [],
   "source": [
    "import tensorflow as tf\n",
    "new_model = tf.keras.models.load_model('/notebooks/IQA/model-koniq/BIQ2021_Final_BO_next.h5',custom_objects={'koniq_combined_loss':koniq_combined_loss,'plcc_train':plcc_train})"
   ]
  },
  {
   "cell_type": "code",
   "execution_count": null,
   "metadata": {},
   "outputs": [],
   "source": [
    "import csv\n",
    "import os\n",
    "import numpy as np\n",
    "import tensorflow as tf\n",
    "from tensorflow.keras.callbacks import CSVLogger,ReduceLROnPlateau\n",
    "from tensorflow.keras.optimizers import Adam, SGD, Nadam\n",
    "\n",
    "# Define callbacks\n",
    "checkpoint_callback = tf.keras.callbacks.ModelCheckpoint('/notebooks/IQA/model-koniq/NAS_model_koniq_next.h5',monitor='val_mae', \n",
    "                                                         save_best_only=True, mode='min',patience=10, verbose=1)\n",
    "early_stopping_callback = tf.keras.callbacks.EarlyStopping(monitor='val_mae', mode='min', patience=10, verbose=1)\n",
    "reduce_lr = ReduceLROnPlateau(monitor='val_loss', factor=0.2, patience=5, min_lr=0.001)\n",
    "# Create a CSVLogger callback to save the logs to a file\n",
    "log_file_path = os.path.join('/notebooks/IQA/log_dir-koniq/', 'KonIQ_log_next.csv')\n",
    "csv_logger = CSVLogger(log_file_path)\n",
    "reduce_lr = ReduceLROnPlateau(monitor='val_loss', factor=0.2, patience=5, min_lr=1e-8)\n",
    "# Set hyperparameters\n",
    "batch_size = 20\n",
    "num_epochs = 40\n",
    "learning_rate = 1e-4\n"
   ]
  },
  {
   "cell_type": "code",
   "execution_count": null,
   "metadata": {
    "execution": {
     "iopub.execute_input": "2023-03-26T23:50:33.679420Z",
     "iopub.status.busy": "2023-03-26T23:50:33.678714Z"
    }
   },
   "outputs": [
    {
     "name": "stdout",
     "output_type": "stream",
     "text": [
      "Epoch 1/40\n",
      "442/442 [==============================] - ETA: 0s - loss: 13.2301 - mae: 9.7062 - plcc_train: 0.6483\n",
      "Epoch 1: val_mae improved from inf to 7.81712, saving model to /notebooks/IQA/model-koniq/NAS_model_koniq_next.h5\n",
      "442/442 [==============================] - 133s 291ms/step - loss: 13.2301 - mae: 9.7062 - plcc_train: 0.6483 - val_loss: 10.5207 - val_mae: 7.8171 - val_plcc_train: 0.7300 - lr: 1.0000e-04\n",
      "Epoch 2/40\n",
      " 64/442 [===>..........................] - ETA: 1:42 - loss: 12.9778 - mae: 9.6873 - plcc_train: 0.6710"
     ]
    }
   ],
   "source": [
    "# Train the model on the training set\n",
    "history=new_model.fit(train_generator,\n",
    "          epochs=num_epochs,\n",
    "          validation_data=val_generator,\n",
    "          callbacks=[checkpoint_callback, early_stopping_callback,csv_logger,reduce_lr])"
   ]
  },
  {
   "cell_type": "code",
   "execution_count": 9,
   "metadata": {
    "execution": {
     "iopub.execute_input": "2023-07-24T08:22:01.591411Z",
     "iopub.status.busy": "2023-07-24T08:22:01.590753Z",
     "iopub.status.idle": "2023-07-24T08:22:18.693854Z",
     "shell.execute_reply": "2023-07-24T08:22:18.693145Z",
     "shell.execute_reply.started": "2023-07-24T08:22:01.591384Z"
    }
   },
   "outputs": [
    {
     "name": "stdout",
     "output_type": "stream",
     "text": [
      "125/125 [==============================] - 17s 136ms/step\n"
     ]
    }
   ],
   "source": [
    "Y_pred=new_model.predict(test_generator)"
   ]
  },
  {
   "cell_type": "code",
   "execution_count": 11,
   "metadata": {
    "execution": {
     "iopub.execute_input": "2023-07-24T08:22:40.042805Z",
     "iopub.status.busy": "2023-07-24T08:22:40.042254Z",
     "iopub.status.idle": "2023-07-24T08:22:40.046351Z",
     "shell.execute_reply": "2023-07-24T08:22:40.045617Z",
     "shell.execute_reply.started": "2023-07-24T08:22:40.042782Z"
    }
   },
   "outputs": [],
   "source": [
    "Y_pred=np.array(y_pred.ravel())\n",
    "Y_test=np.array(test_generator.labels)"
   ]
  },
  {
   "cell_type": "code",
   "execution_count": 9,
   "metadata": {
    "execution": {
     "iopub.execute_input": "2023-07-24T07:38:43.935597Z",
     "iopub.status.busy": "2023-07-24T07:38:43.934864Z",
     "iopub.status.idle": "2023-07-24T07:38:43.938904Z",
     "shell.execute_reply": "2023-07-24T07:38:43.938319Z",
     "shell.execute_reply.started": "2023-07-24T07:38:43.935574Z"
    }
   },
   "outputs": [],
   "source": [
    "data_pred={'Y_pred':Y_pred,'Y_test':Y_test}\n",
    "df=pd.DataFrame(data_pred)"
   ]
  },
  {
   "cell_type": "code",
   "execution_count": 8,
   "metadata": {
    "execution": {
     "iopub.execute_input": "2023-04-19T04:48:53.258643Z",
     "iopub.status.busy": "2023-04-19T04:48:53.258165Z",
     "iopub.status.idle": "2023-04-19T04:48:53.267740Z",
     "shell.execute_reply": "2023-04-19T04:48:53.267150Z",
     "shell.execute_reply.started": "2023-04-19T04:48:53.258625Z"
    }
   },
   "outputs": [],
   "source": [
    "df.to_csv('LIVEC-out.csv', index=False)"
   ]
  },
  {
   "cell_type": "code",
   "execution_count": 12,
   "metadata": {
    "execution": {
     "iopub.execute_input": "2023-04-19T04:56:44.098408Z",
     "iopub.status.busy": "2023-04-19T04:56:44.097739Z",
     "iopub.status.idle": "2023-04-19T04:56:44.102936Z",
     "shell.execute_reply": "2023-04-19T04:56:44.102339Z",
     "shell.execute_reply.started": "2023-04-19T04:56:44.098385Z"
    }
   },
   "outputs": [],
   "source": [
    "import scipy\n",
    "import matplotlib.pyplot as plt\n",
    "def srocc(xs, ys):\n",
    "    \"\"\"Spearman Rank Order Correlation Coefficient\"\"\"\n",
    "    xranks = pd.Series(xs).rank()    \n",
    "    yranks = pd.Series(ys).rank()    \n",
    "    return plcc(xranks, yranks)\n",
    "\n",
    "def dist2mos(x, scale=np.arange(1, 6)):\n",
    "    \"\"\"\n",
    "    Find the MOS of a distribution of scores `x`, given a `scale`.\n",
    "    e.g. x=[0,2,2], scale=[1,2,3] => MOS=2.5\n",
    "    \"\"\"\n",
    "    x = x / np.reshape(np.sum(x*1., axis=1), (len(x), 1))\n",
    "    return np.sum(x * scale, axis=1)\n",
    "def plcc(y_true, y_pred):\n",
    "    \"\"\"Pearson Linear Correlation Coefficient\"\"\"\n",
    "    return scipy.stats.pearsonr(y_true, y_pred)[0]\n",
    "def krcc(x, y):\n",
    "    return scipy.stats.kendalltau(x, y)[0]"
   ]
  },
  {
   "cell_type": "code",
   "execution_count": 12,
   "metadata": {
    "execution": {
     "iopub.execute_input": "2023-04-08T12:48:21.323482Z",
     "iopub.status.busy": "2023-04-08T12:48:21.323158Z",
     "iopub.status.idle": "2023-04-08T12:48:21.331165Z",
     "shell.execute_reply": "2023-04-08T12:48:21.330241Z",
     "shell.execute_reply.started": "2023-04-08T12:48:21.323455Z"
    }
   },
   "outputs": [],
   "source": [
    "def rating_metrics(y_true, y_pred, show_plot=True):    \n",
    "    \"\"\"\n",
    "    Print out performance measures given ground-truth (`y_true`) and predicted (`y_pred`) scalar arrays.\n",
    "    \"\"\"\n",
    "    y_true, y_pred = np.array(y_true).squeeze(), np.array(y_pred).squeeze()\n",
    "    p_plcc = np.round(plcc(y_true, y_pred),3)\n",
    "    p_srcc = np.round(srocc(y_true, y_pred),3)\n",
    "    p_mae  = np.round(np.mean(np.abs(y_true - y_pred)),3)\n",
    "    p_rmse  = np.round(np.sqrt(np.mean((y_true - y_pred)**2)),3)\n",
    "    \n",
    "    if show_plot:\n",
    "        print('SRCC: {} | PLCC: {} | MAE: {} | RMSE: {}'.\\\n",
    "              format(p_srcc, p_plcc, p_mae, p_rmse))    \n",
    "        plt.plot(y_true, y_pred,'.',markersize=1)\n",
    "        plt.xlabel('ground-truth')\n",
    "        plt.ylabel('predicted')\n",
    "        plt.show()\n",
    "    return (p_srcc, p_plcc, p_mae, p_rmse)"
   ]
  },
  {
   "cell_type": "code",
   "execution_count": 13,
   "metadata": {
    "execution": {
     "iopub.execute_input": "2023-04-19T04:56:48.164198Z",
     "iopub.status.busy": "2023-04-19T04:56:48.163684Z",
     "iopub.status.idle": "2023-04-19T04:56:48.171719Z",
     "shell.execute_reply": "2023-04-19T04:56:48.171089Z",
     "shell.execute_reply.started": "2023-04-19T04:56:48.164176Z"
    }
   },
   "outputs": [],
   "source": [
    "import seaborn as sns\n",
    "import pandas as pd\n",
    "import matplotlib.pyplot as plt\n",
    "\n",
    "\n",
    "\n",
    "sns.set(font='DejaVu Serif',style=\"white\")\n",
    "font = {'family': 'DejaVu Serif', 'size': 10}\n",
    "def rating_metrics(y_true, y_pred, show_plot=True):    \n",
    "    \"\"\"\n",
    "    Print out performance measures given ground-truth (`y_true`) and predicted (`y_pred`) scalar arrays.\n",
    "    \"\"\"\n",
    "    y_true, y_pred = np.array(y_true).squeeze(), np.array(y_pred).squeeze()\n",
    "    p_plcc = np.round(plcc(y_true, y_pred),3)\n",
    "    p_srcc = np.round(srocc(y_true, y_pred),3)\n",
    "    p_krcc=  np.round(krcc(y_true, y_pred),3)\n",
    "\n",
    "    p_mae  = np.round(np.mean(np.abs(y_true - y_pred)),3)\n",
    "    p_rmse  = np.round(np.sqrt(np.mean((y_true - y_pred)**2)),3)\n",
    "    \n",
    "    if show_plot:\n",
    "        print('SRCC: {} | PLCC: {} | KRCC: {} | MAE: {} | RMSE: {}'.\\\n",
    "              format(p_srcc, p_plcc,p_krcc, p_mae, p_rmse))  \n",
    "        data = pd.DataFrame({'Y_test': y_true, 'Y_pred': y_pred})\n",
    "        # Create scatter plot with lines of best fit\n",
    "        sns.lmplot(x='Y_pred', y='Y_test',data=data, scatter_kws={'s': 1,'marker': '+'}, height=3.4,ci=95, line_kws={'label': 'Predicted Line'})\n",
    "        sns.lineplot(x='Y_test', y='Y_test',data=data,color='red',label='Traget Line',linestyle=':')\n",
    "        # Add labels and title\n",
    "        plt.xlabel('Predicted values')\n",
    "        plt.ylabel('True values')\n",
    "         \n",
    "        # Set figure size and resolution\n",
    "        plt.gcf().set_size_inches(3.4, 3.4)\n",
    "        plt.gcf().dpi = 120\n",
    "\n",
    "        plt.legend(loc='upper right', bbox_to_anchor=(0.65, 1),prop=font)\n",
    "        # Save plot as PNG image\n",
    "        plt.savefig('/notebooks/koniq/KONIQ10k_plot.png', dpi=1200, bbox_inches='tight')\n",
    "\n",
    "        # Show plot (optional)\n",
    "        plt.show()\n",
    "    return (p_srcc, p_plcc, p_mae, p_rmse)"
   ]
  },
  {
   "cell_type": "code",
   "execution_count": 15,
   "metadata": {
    "execution": {
     "iopub.execute_input": "2023-07-24T08:23:47.260868Z",
     "iopub.status.busy": "2023-07-24T08:23:47.260601Z",
     "iopub.status.idle": "2023-07-24T08:23:49.479460Z",
     "shell.execute_reply": "2023-07-24T08:23:49.478731Z",
     "shell.execute_reply.started": "2023-07-24T08:23:47.260849Z"
    }
   },
   "outputs": [
    {
     "name": "stderr",
     "output_type": "stream",
     "text": [
      "/tmp/ipykernel_582/2704820215.py:6: FutureWarning: \n",
      "\n",
      "`shade` is now deprecated in favor of `fill`; setting `fill=True`.\n",
      "This will become an error in seaborn v0.14.0; please update your code.\n",
      "\n",
      "  sns.kdeplot(Y_pred, shade=True, label='y_pred')\n",
      "/tmp/ipykernel_582/2704820215.py:9: FutureWarning: \n",
      "\n",
      "`shade` is now deprecated in favor of `fill`; setting `fill=True`.\n",
      "This will become an error in seaborn v0.14.0; please update your code.\n",
      "\n",
      "  sns.kdeplot(Y_test, shade=True, label='y_true')\n"
     ]
    },
    {
     "data": {
      "image/png": "[encoded data removed]",
      "text/plain": [
       "<Figure size 640x480 with 1 Axes>"
      ]
     },
     "metadata": {},
     "output_type": "display_data"
    }
   ],
   "source": [
    "import seaborn as sns\n",
    "import matplotlib.pyplot as plt\n",
    "sns.set(font='DejaVu Serif',style=\"white\")\n",
    "font = {'family': 'DejaVu Serif', 'size': 10}\n",
    "# Create a KDE plot of y_pred\n",
    "sns.kdeplot(Y_pred, shade=True, label='y_pred')\n",
    "\n",
    "# Create a KDE plot of y_true\n",
    "sns.kdeplot(Y_test, shade=True, label='y_true')\n",
    "\n",
    "# Add legend\n",
    "plt.legend(loc='upper right')\n",
    "\n",
    "# Add axis labels and title\n",
    "plt.xlabel('Value')\n",
    "plt.ylabel('Density')\n",
    "plt.title('Density plot of y_pred and y_true')\n",
    "# Save plot as PNG image\n",
    "plt.savefig('/notebooks/koniq/BIQA_dist.png', dpi=1200, bbox_inches='tight')\n",
    "# Show the plot\n",
    "plt.show()"
   ]
  },
  {
   "cell_type": "markdown",
   "metadata": {},
   "source": [
    "## Train on BIQ2021 tested on BIQ2021\n"
   ]
  },
  {
   "cell_type": "code",
   "execution_count": 13,
   "metadata": {
    "execution": {
     "iopub.execute_input": "2023-04-08T12:48:52.631478Z",
     "iopub.status.busy": "2023-04-08T12:48:52.630572Z",
     "iopub.status.idle": "2023-04-08T12:48:53.290847Z",
     "shell.execute_reply": "2023-04-08T12:48:53.289670Z",
     "shell.execute_reply.started": "2023-04-08T12:48:52.631430Z"
    }
   },
   "outputs": [
    {
     "name": "stdout",
     "output_type": "stream",
     "text": [
      "SRCC: 0.856 | PLCC: 0.851 | MAE: 0.072 | RMSE: 0.103\n"
     ]
    },
    {
     "data": {
      "image/png": "[encoded data removed]",
      "text/plain": [
       "<Figure size 640x480 with 1 Axes>"
      ]
     },
     "metadata": {},
     "output_type": "display_data"
    }
   ],
   "source": [
    "(p_srcc, p_plcc, p_mae, p_rmse)=rating_metrics(Y_test,Y_pred)"
   ]
  },
  {
   "cell_type": "code",
   "execution_count": 14,
   "metadata": {
    "execution": {
     "iopub.execute_input": "2023-04-19T04:56:53.129317Z",
     "iopub.status.busy": "2023-04-19T04:56:53.128589Z",
     "iopub.status.idle": "2023-04-19T04:56:58.192602Z",
     "shell.execute_reply": "2023-04-19T04:56:58.192084Z",
     "shell.execute_reply.started": "2023-04-19T04:56:53.129295Z"
    }
   },
   "outputs": [
    {
     "name": "stdout",
     "output_type": "stream",
     "text": [
      "SRCC: 0.856 | PLCC: 0.851 | KRCC: 0.665 | MAE: 0.072 | RMSE: 0.103\n"
     ]
    },
    {
     "data": {
      "image/png": "[encoded data removed]",
      "text/plain": [
       "<Figure size 408x408 with 1 Axes>"
      ]
     },
     "metadata": {},
     "output_type": "display_data"
    }
   ],
   "source": [
    "(p_srcc, p_plcc, p_mae, p_rmse)=rating_metrics(Y_test,Y_pred)"
   ]
  }
 ],
 "metadata": {
  "accelerator": "GPU",
  "colab": {
   "collapsed_sections": [],
   "name": "advanced.ipynb",
   "toc_visible": true
  },
  "kernelspec": {
   "display_name": "Python 3 (ipykernel)",
   "language": "python",
   "name": "python3"
  },
  "language_info": {
   "codemirror_mode": {
    "name": "ipython",
    "version": 3
   },
   "file_extension": ".py",
   "mimetype": "text/x-python",
   "name": "python",
   "nbconvert_exporter": "python",
   "pygments_lexer": "ipython3",
   "version": "3.9.16"
  }
 },
 "nbformat": 4,
 "nbformat_minor": 4
}
